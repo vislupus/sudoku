{
 "cells": [
  {
   "cell_type": "code",
   "execution_count": 89,
   "metadata": {},
   "outputs": [
    {
     "name": "stdout",
     "output_type": "stream",
     "text": [
      "\n",
      "time: 0.015625\n",
      "\n",
      "3 1 5 | 9 8 4 | 2 7 6 \n",
      "7 2 6 | 5 1 3 | 4 8 9 \n",
      "8 4 9 | 6 7 2 | 1 5 3 \n",
      "---------------------\n",
      "4 6 2 | 3 5 9 | 8 1 7 \n",
      "5 7 8 | 2 6 1 | 3 9 4 \n",
      "1 9 3 | 7 4 8 | 6 2 5 \n",
      "---------------------\n",
      "2 3 1 | 4 9 7 | 5 6 8 \n",
      "6 8 7 | 1 3 5 | 9 4 2 \n",
      "9 5 4 | 8 2 6 | 7 3 1 \n",
      "\n"
     ]
    }
   ],
   "source": [
    "import random\n",
    "import time\n",
    "\n",
    "def sudoku():\n",
    "    for i in range(100):\n",
    "        try:\n",
    "            data = {}\n",
    "\n",
    "            for i in range(81):\n",
    "                data[i]={'index':i,\n",
    "                         'col':i%9,\n",
    "                         'row':i//9,\n",
    "                         'value':0,\n",
    "                         'box':i//3 - 3*(i//9 - (i//9)//3),\n",
    "                         'pos':[1,2,3,4,5,6,7,8,9],\n",
    "                         'state':'ready'}\n",
    "\n",
    "\n",
    "            def removeOther(r,c,b,n):\n",
    "                for i in range(81):\n",
    "                    if (len(data[i]['pos']) > 0) and (n in data[i]['pos']):\n",
    "                        if(data[i]['row']==r) or (data[i]['col']==c) or (data[i]['box']==b):\n",
    "                            data[i]['pos'].remove(n)\n",
    "\n",
    "            def check():\n",
    "                for i in range(81):\n",
    "                    if (len(data[i]['pos']) < 2) and (len(data[i]['pos']) > 0) and (data[i]['state'] == 'ready'):\n",
    "                        data[i]['value']=random.choice(data[i]['pos'])\n",
    "                        data[i]['state']='checked'\n",
    "                        removeOther(data[i]['row'], data[i]['col'], data[i]['box'], data[i]['value'])\n",
    "\n",
    "\n",
    "            for i in range(81):\n",
    "                if data[i]['state'] == 'ready':\n",
    "                    data[i]['value']=random.choice(data[i]['pos'])\n",
    "                    data[i]['state']='checked'\n",
    "                    removeOther(data[i]['row'], data[i]['col'], data[i]['box'], data[i]['value'])\n",
    "                    check()\n",
    "\n",
    "            break\n",
    "\n",
    "        except:\n",
    "            pass\n",
    "\n",
    "\n",
    "        \n",
    "start = time.process_time()\n",
    "sudoku()\n",
    "end=(time.process_time() - start)\n",
    "print(f\"\\ntime: {end}\\n\")\n",
    "    \n",
    "\n",
    "def draw(text):\n",
    "    demo=''\n",
    "    m=0\n",
    "    for r in range(9):\n",
    "        for n in range(9):\n",
    "            m=f\"{str(data[n+9*r][text])}\"\n",
    "            if n%3==2 and n%9!=8:\n",
    "                demo += m+\" | \"\n",
    "            else:\n",
    "                demo += m+\" \"\n",
    "\n",
    "        demo += \"\\n\"\n",
    "        if r%3==2 and r%9!=8:\n",
    "            demo += \"---------------------\\n\"\n",
    "\n",
    "    return print(demo)\n",
    "\n",
    "draw('value')"
   ]
  },
  {
   "cell_type": "code",
   "execution_count": 65,
   "metadata": {},
   "outputs": [
    {
     "name": "stdout",
     "output_type": "stream",
     "text": [
      "Columns:\n",
      "Column 0 is fine\n",
      "Column 1 is fine\n",
      "Column 2 is fine\n",
      "Column 3 is fine\n",
      "Column 4 is fine\n",
      "Column 5 is fine\n",
      "Column 6 is fine\n",
      "Column 7 is fine\n",
      "Column 8 is fine\n",
      "\n",
      "Rows:\n",
      "Row 0 is fine\n",
      "Row 1 is fine\n",
      "Row 2 is fine\n",
      "Row 3 is fine\n",
      "Row 4 is fine\n",
      "Row 5 is fine\n",
      "Row 6 is fine\n",
      "Row 7 is fine\n",
      "Row 8 is fine\n",
      "\n",
      "Boxes:\n",
      "Box 0 is fine\n",
      "Box 1 is fine\n",
      "Box 2 is fine\n",
      "Box 3 is fine\n",
      "Box 4 is fine\n",
      "Box 5 is fine\n",
      "Box 6 is fine\n",
      "Box 7 is fine\n",
      "Box 8 is fine\n"
     ]
    }
   ],
   "source": [
    "def superCheck():\n",
    "    print(f\"Columns:\")\n",
    "    for i in range(9):\n",
    "        s=set()\n",
    "        t=0\n",
    "        \n",
    "        for j in range(9):\n",
    "            n=data[i+t]['index']\n",
    "            s.add(n)\n",
    "            t+=9\n",
    "    \n",
    "        if(len(s)<9):\n",
    "            print(f\"There is a problem with a column {i}\")\n",
    "        else:\n",
    "            print(f\"Column {i} is fine\")\n",
    "    \n",
    "    \n",
    "    print(f\"\\nRows:\")\n",
    "    for i in range(9):\n",
    "        s=set()\n",
    "        t=0\n",
    "    \n",
    "        for j in range(9):\n",
    "            n=data[i*9+t]['index']\n",
    "            s.add(n)\n",
    "            t+=1\n",
    "            \n",
    "        if(len(s)<9):\n",
    "            print(f\"There is a problem with a row {i}\")\n",
    "        else:\n",
    "            print(f\"Row {i} is fine\")\n",
    "\n",
    "            \n",
    "    print(f\"\\nBoxes:\")        \n",
    "    for i in range(9):\n",
    "        s=set()\n",
    "        t=0\n",
    "        b=(i*3)+(((i*3)//9)*18)\n",
    "        \n",
    "        for j in range(9):\n",
    "            n=data[(b+j)+((j*3)//9)*6]['index']\n",
    "            s.add(n)\n",
    "            \n",
    "        if(len(s)<9):\n",
    "            print(f\"There is a problem with a box {i}\")\n",
    "        else:\n",
    "            print(f\"Box {i} is fine\")\n",
    "            \n",
    "            \n",
    "superCheck()"
   ]
  },
  {
   "cell_type": "markdown",
   "metadata": {},
   "source": [
    "# Test"
   ]
  },
  {
   "cell_type": "code",
   "execution_count": 90,
   "metadata": {},
   "outputs": [
    {
     "name": "stdout",
     "output_type": "stream",
     "text": [
      "worked: 193\n",
      "wrong: 807\n",
      "time: 0.011415155440414508\n"
     ]
    }
   ],
   "source": [
    "import random\n",
    "import time\n",
    "\n",
    "worked=0\n",
    "wrong=0\n",
    "times=[]\n",
    "\n",
    "for i in range(1000):\n",
    "    try:\n",
    "        start = time.process_time()\n",
    "\n",
    "        data = {}\n",
    "\n",
    "        for i in range(81):\n",
    "            data[i]={'index':i,\n",
    "                     'col':i%9,\n",
    "                     'row':i//9,\n",
    "                     'value':0,\n",
    "                     'box':i//3 - 3*(i//9 - (i//9)//3),\n",
    "                     'pos':[1,2,3,4,5,6,7,8,9],\n",
    "                     'state':'ready'}\n",
    "\n",
    "\n",
    "        def removeOther(r,c,b,n):\n",
    "            for i in range(81):\n",
    "                if (len(data[i]['pos']) > 0) and (n in data[i]['pos']):\n",
    "                    if(data[i]['row']==r) or (data[i]['col']==c) or (data[i]['box']==b):\n",
    "                        data[i]['pos'].remove(n)\n",
    "        #                 print(data[i]['pos'])\n",
    "\n",
    "        def check():\n",
    "        #     print('check')\n",
    "            for i in range(81):\n",
    "                if (len(data[i]['pos']) < 2) and (len(data[i]['pos']) > 0) and (data[i]['state'] == 'ready'):\n",
    "                    data[i]['value']=random.choice(data[i]['pos'])\n",
    "                    data[i]['state']='checked'\n",
    "        #             print(data[i]['index'], data[i]['value'])\n",
    "                    removeOther(data[i]['row'], data[i]['col'], data[i]['box'], data[i]['value'])\n",
    "\n",
    "        for i in range(81):\n",
    "            if data[i]['state'] == 'ready':\n",
    "        #         print(i)\n",
    "                data[i]['value']=random.choice(data[i]['pos'])\n",
    "                data[i]['state']='checked'\n",
    "        #         print(data[i]['index'], data[i]['value'])\n",
    "                removeOther(data[i]['row'], data[i]['col'], data[i]['box'], data[i]['value'])\n",
    "                check()\n",
    "        worked+=1\n",
    "        \n",
    "        end=(time.process_time() - start)\n",
    "        times.append(end)\n",
    "    except:\n",
    "        wrong+=1\n",
    "        \n",
    "print(f\"worked: {worked}\\nwrong: {wrong}\\ntime: {sum(times) / len(times)}\")"
   ]
  },
  {
   "cell_type": "code",
   "execution_count": 92,
   "metadata": {},
   "outputs": [
    {
     "name": "stdout",
     "output_type": "stream",
     "text": [
      "max time: 0.171875\n",
      "min time: 0.0\n",
      "average time: 0.0313125\n"
     ]
    }
   ],
   "source": [
    "import random\n",
    "import time\n",
    "\n",
    "times=[]\n",
    "\n",
    "for i in range(1000):\n",
    "    start = time.process_time()\n",
    "    \n",
    "    sudoku()\n",
    "        \n",
    "    end=(time.process_time() - start)\n",
    "    times.append(end)\n",
    "        \n",
    "print(f\"max time: {max(times)}\\nmin time: {min(times)}\\naverage time: {sum(times) / len(times)}\")"
   ]
  },
  {
   "cell_type": "code",
   "execution_count": 100,
   "metadata": {},
   "outputs": [
    {
     "name": "stdout",
     "output_type": "stream",
     "text": [
      "1: 0.015625 s\n",
      "10: 0.25 s\n",
      "50: 1.59375 s\n",
      "100: 3.109375 s\n",
      "300: 9.234375 s\n",
      "500: 15.03125 s\n",
      "700: 21.78125 s\n",
      "1000: 30.453125 s\n",
      "[0.015625, 0.25, 1.59375, 3.109375, 9.234375, 15.03125, 21.78125, 30.453125]\n"
     ]
    }
   ],
   "source": [
    "import time\n",
    "\n",
    "times=[1, 50, 100, 300, 500, 700, 1000]\n",
    "results=[]\n",
    "\n",
    "\n",
    "for i in range(len(times)):\n",
    "    start = time.process_time()\n",
    "    for j in range(times[i]):\n",
    "        sudoku()\n",
    "\n",
    "    results.append(time.process_time() - start)\n",
    "    print(f\"{times[i]}: {results[len(results)-1]} s\")\n",
    "\n",
    "print(results)"
   ]
  },
  {
   "cell_type": "code",
   "execution_count": 101,
   "metadata": {},
   "outputs": [
    {
     "data": {
      "image/png": "[encoded data removed]",
      "text/plain": [
       "<Figure size 720x360 with 2 Axes>"
      ]
     },
     "metadata": {
      "needs_background": "light"
     },
     "output_type": "display_data"
    }
   ],
   "source": [
    "import matplotlib.pyplot as plt\n",
    "%matplotlib inline\n",
    "\n",
    "f, axs = plt.subplots(1,2, figsize=(10, 5))\n",
    "axs[0].plot(times, results, color='green', marker='o', markersize=5, linestyle='dashed', linewidth=2)\n",
    "axs[0].grid()\n",
    "\n",
    "axs[1].loglog(times, results, color='blue', marker='o', markersize=5, linewidth=2)\n",
    "axs[1].grid()\n",
    "\n",
    "plt.tight_layout()"
   ]
  }
 ],
 "metadata": {
  "kernelspec": {
   "display_name": "Python 3",
   "language": "python",
   "name": "python3"
  },
  "language_info": {
   "codemirror_mode": {
    "name": "ipython",
    "version": 3
   },
   "file_extension": ".py",
   "mimetype": "text/x-python",
   "name": "python",
   "nbconvert_exporter": "python",
   "pygments_lexer": "ipython3",
   "version": "3.7.0"
  }
 },
 "nbformat": 4,
 "nbformat_minor": 2
}