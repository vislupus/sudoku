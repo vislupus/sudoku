{
 "cells": [
  {
   "cell_type": "code",
   "execution_count": 228,
   "metadata": {},
   "outputs": [
    {
     "name": "stdout",
     "output_type": "stream",
     "text": [
      "0 0 0 | 1 1 1 | 2 2 2 \n",
      "0 0 0 | 1 1 1 | 2 2 2 \n",
      "0 0 0 | 1 1 1 | 2 2 2 \n",
      "---------------------\n",
      "3 3 3 | 4 4 4 | 5 5 5 \n",
      "3 3 3 | 4 4 4 | 5 5 5 \n",
      "3 3 3 | 4 4 4 | 5 5 5 \n",
      "---------------------\n",
      "6 6 6 | 7 7 7 | 8 8 8 \n",
      "6 6 6 | 7 7 7 | 8 8 8 \n",
      "6 6 6 | 7 7 7 | 8 8 8 \n",
      "\n"
     ]
    }
   ],
   "source": [
    "data = {}\n",
    "\n",
    "for i in range(81):\n",
    "    data[i]={'index':i,'col':i%9, 'row':i//9, 'value':0, 'box':i//3 - 3*(i//9 - (i//9)//3)}\n",
    "    \n",
    "def draw():\n",
    "    demo=''\n",
    "    m=0\n",
    "    for r in range(9):\n",
    "        for n in range(9):\n",
    "            m=f\"{str(data[n+9*r]['box'])}\"\n",
    "            if n%3==2 and n%9!=8:\n",
    "                demo += m+\" | \"\n",
    "            else:\n",
    "                demo += m+\" \"\n",
    "\n",
    "        demo += \"\\n\"\n",
    "        if r%3==2 and r%9!=8:\n",
    "            demo += \"---------------------\\n\"\n",
    "\n",
    "    return print(demo)\n",
    "\n",
    "draw()"
   ]
  },
  {
   "cell_type": "code",
   "execution_count": 240,
   "metadata": {},
   "outputs": [
    {
     "name": "stdout",
     "output_type": "stream",
     "text": [
      "0.0 - 0/0 - 0/0\n",
      "0.1 - 1/1 - 0/0\n",
      "0.2 - 2/2 - 0/0\n",
      "0.3 - 3/3 - 0/0\n",
      "0.4 - 4/4 - 0/0\n",
      "0.6 - 5/5 - 0/0\n",
      "0.7 - 6/6 - 0/0\n",
      "0.8 - 7/7 - 0/0\n",
      "0.9 - 8/8 - 0/0\n"
     ]
    }
   ],
   "source": [
    "for i in range(9):\n",
    "    print(f\"{i/9:.1f} - {i%9}/{i - (9 * int(i/9))} - {i//9}/{int(i/9)}\")"
   ]
  },
  {
   "cell_type": "code",
   "execution_count": null,
   "metadata": {},
   "outputs": [],
   "source": []
  }
 ],
 "metadata": {
  "kernelspec": {
   "display_name": "Python 3",
   "language": "python",
   "name": "python3"
  },
  "language_info": {
   "codemirror_mode": {
    "name": "ipython",
    "version": 3
   },
   "file_extension": ".py",
   "mimetype": "text/x-python",
   "name": "python",
   "nbconvert_exporter": "python",
   "pygments_lexer": "ipython3",
   "version": "3.7.0"
  }
 },
 "nbformat": 4,
 "nbformat_minor": 2
}
