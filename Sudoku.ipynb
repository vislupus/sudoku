{
 "cells": [
  {
   "cell_type": "code",
   "execution_count": 456,
   "metadata": {},
   "outputs": [
    {
     "name": "stdout",
     "output_type": "stream",
     "text": [
      "0.015625\n",
      "5 2 6 | 9 4 3 | 7 8 1 \n",
      "1 7 8 | 2 6 5 | 3 9 4 \n",
      "4 3 9 | 7 1 8 | 5 2 6 \n",
      "---------------------\n",
      "6 5 3 | 1 2 9 | 8 4 7 \n",
      "7 8 2 | 4 5 6 | 9 1 3 \n",
      "9 4 1 | 3 8 7 | 6 5 2 \n",
      "---------------------\n",
      "3 6 4 | 5 9 2 | 1 7 8 \n",
      "8 1 5 | 6 7 4 | 2 3 9 \n",
      "2 9 7 | 8 3 1 | 4 6 5 \n",
      "\n"
     ]
    }
   ],
   "source": [
    "import random\n",
    "import time\n",
    "\n",
    "start = time.process_time()\n",
    "\n",
    "data = {}\n",
    "\n",
    "for i in range(81):\n",
    "    data[i]={'index':i,\n",
    "             'col':i%9,\n",
    "             'row':i//9,\n",
    "             'value':0,\n",
    "             'box':i//3 - 3*(i//9 - (i//9)//3),\n",
    "             'pos':[1,2,3,4,5,6,7,8,9],\n",
    "             'state':'ready'}\n",
    "    \n",
    "            \n",
    "def removeOther(r,c,b,n):\n",
    "    for i in range(81):\n",
    "        if (len(data[i]['pos']) > 0) and (n in data[i]['pos']):\n",
    "            if(data[i]['row']==r) or (data[i]['col']==c) or (data[i]['box']==b):\n",
    "                data[i]['pos'].remove(n)\n",
    "#                 print(data[i]['pos'])\n",
    "                \n",
    "def check():\n",
    "#     print('check')\n",
    "    for i in range(81):\n",
    "        if (len(data[i]['pos']) < 2) and (len(data[i]['pos']) > 0) and (data[i]['state'] == 'ready'):\n",
    "            data[i]['value']=random.choice(data[i]['pos'])\n",
    "            data[i]['state']='checked'\n",
    "#             print(data[i]['index'], data[i]['value'])\n",
    "            removeOther(data[i]['row'], data[i]['col'], data[i]['box'], data[i]['value'])\n",
    "\n",
    "for i in range(81):\n",
    "    if data[i]['state'] == 'ready':\n",
    "#         print(i)\n",
    "        data[i]['value']=random.choice(data[i]['pos'])\n",
    "        data[i]['state']='checked'\n",
    "#         print(data[i]['index'], data[i]['value'])\n",
    "        removeOther(data[i]['row'], data[i]['col'], data[i]['box'], data[i]['value'])\n",
    "        check()\n",
    "        \n",
    "print(time.process_time() - start)\n",
    "\n",
    "def draw(text):\n",
    "    demo=''\n",
    "    m=0\n",
    "    for r in range(9):\n",
    "        for n in range(9):\n",
    "            m=f\"{str(data[n+9*r][text])}\"\n",
    "            if n%3==2 and n%9!=8:\n",
    "                demo += m+\" | \"\n",
    "            else:\n",
    "                demo += m+\" \"\n",
    "\n",
    "        demo += \"\\n\"\n",
    "        if r%3==2 and r%9!=8:\n",
    "            demo += \"---------------------\\n\"\n",
    "\n",
    "    return print(demo)\n",
    "\n",
    "# draw('box')\n",
    "draw('value')\n",
    "# draw('index')\n",
    "# draw('pos')"
   ]
  },
  {
   "cell_type": "code",
   "execution_count": 425,
   "metadata": {},
   "outputs": [
    {
     "name": "stdout",
     "output_type": "stream",
     "text": [
      "5 4 2 | 9 8 7 | 3 6 1 \n",
      "9 3 6 | 1 4 5 | 7 2 8 \n",
      "7 1 8 | 2 3 6 | 5 4 9 \n",
      "---------------------\n",
      "6 9 1 | 4 2 3 | 8 7 5 \n",
      "8 2 7 | 5 6 1 | 4 9 3 \n",
      "3 5 4 | 8 7 9 | 6 1 2 \n",
      "---------------------\n",
      "1 7 9 | 6 5 8 | 2 3 4 \n",
      "4 6 5 | 3 9 2 | 1 8 7 \n",
      "2 8 3 | 7 1 4 | 9 5 6 \n",
      "\n"
     ]
    }
   ],
   "source": [
    "# print(data[9]['pos'])\n",
    "# print(random.choice(data[9]['pos']))\n",
    "draw('value')"
   ]
  },
  {
   "cell_type": "code",
   "execution_count": 458,
   "metadata": {},
   "outputs": [
    {
     "name": "stdout",
     "output_type": "stream",
     "text": [
      "Columns:\n",
      "Column 0 is fine\n",
      "Column 1 is fine\n",
      "Column 2 is fine\n",
      "Column 3 is fine\n",
      "Column 4 is fine\n",
      "Column 5 is fine\n",
      "Column 6 is fine\n",
      "Column 7 is fine\n",
      "Column 8 is fine\n",
      "\n",
      "Rows:\n",
      "Row 0 is fine\n",
      "Row 1 is fine\n",
      "Row 2 is fine\n",
      "Row 3 is fine\n",
      "Row 4 is fine\n",
      "Row 5 is fine\n",
      "Row 6 is fine\n",
      "Row 7 is fine\n",
      "Row 8 is fine\n",
      "\n",
      "Boxes:\n",
      "Box 0 is fine\n",
      "Box 1 is fine\n",
      "Box 2 is fine\n",
      "Box 3 is fine\n",
      "Box 4 is fine\n",
      "Box 5 is fine\n",
      "Box 6 is fine\n",
      "Box 7 is fine\n",
      "Box 8 is fine\n"
     ]
    }
   ],
   "source": [
    "def superCheck():\n",
    "    print(f\"Columns:\")\n",
    "    for i in range(9):\n",
    "        s=set()\n",
    "        t=0\n",
    "        \n",
    "        for j in range(9):\n",
    "            n=data[i+t]['index']\n",
    "            s.add(n)\n",
    "            t+=9\n",
    "    \n",
    "        if(len(s)<9):\n",
    "            print(f\"There is a problem with a column {i}\")\n",
    "        else:\n",
    "            print(f\"Column {i} is fine\")\n",
    "    \n",
    "    \n",
    "    print(f\"\\nRows:\")\n",
    "    for i in range(9):\n",
    "        s=set()\n",
    "        t=0\n",
    "    \n",
    "        for j in range(9):\n",
    "            n=data[i*9+t]['index']\n",
    "            s.add(n)\n",
    "            t+=1\n",
    "            \n",
    "        if(len(s)<9):\n",
    "            print(f\"There is a problem with a row {i}\")\n",
    "        else:\n",
    "            print(f\"Row {i} is fine\")\n",
    "\n",
    "            \n",
    "    print(f\"\\nBoxes:\")        \n",
    "    for i in range(9):\n",
    "        s=set()\n",
    "        t=0\n",
    "        b=(i*3)+(((i*3)//9)*18)\n",
    "        \n",
    "        for j in range(9):\n",
    "            n=data[(b+j)+((j*3)//9)*6]['index']\n",
    "            s.add(n)\n",
    "            \n",
    "        if(len(s)<9):\n",
    "            print(f\"There is a problem with a box {i}\")\n",
    "        else:\n",
    "            print(f\"Box {i} is fine\")\n",
    "            \n",
    "            \n",
    "superCheck()"
   ]
  },
  {
   "cell_type": "code",
   "execution_count": null,
   "metadata": {},
   "outputs": [],
   "source": []
  },
  {
   "cell_type": "code",
   "execution_count": null,
   "metadata": {},
   "outputs": [],
   "source": []
  },
  {
   "cell_type": "code",
   "execution_count": null,
   "metadata": {},
   "outputs": [],
   "source": []
  },
  {
   "cell_type": "code",
   "execution_count": 2,
   "metadata": {},
   "outputs": [
    {
     "name": "stdout",
     "output_type": "stream",
     "text": [
      "0.0 - 0/0 - 0/0\n",
      "0.1 - 1/1 - 0/0\n",
      "0.2 - 2/2 - 0/0\n",
      "0.3 - 3/3 - 0/0\n",
      "0.4 - 4/4 - 0/0\n",
      "0.6 - 5/5 - 0/0\n",
      "0.7 - 6/6 - 0/0\n",
      "0.8 - 7/7 - 0/0\n",
      "0.9 - 8/8 - 0/0\n"
     ]
    }
   ],
   "source": [
    "for i in range(9):\n",
    "    print(f\"{i/9:.1f} - {i%9}/{i - (9 * int(i/9))} - {i//9}/{int(i/9)}\")"
   ]
  },
  {
   "cell_type": "code",
   "execution_count": null,
   "metadata": {},
   "outputs": [],
   "source": []
  }
 ],
 "metadata": {
  "kernelspec": {
   "display_name": "Python 3",
   "language": "python",
   "name": "python3"
  },
  "language_info": {
   "codemirror_mode": {
    "name": "ipython",
    "version": 3
   },
   "file_extension": ".py",
   "mimetype": "text/x-python",
   "name": "python",
   "nbconvert_exporter": "python",
   "pygments_lexer": "ipython3",
   "version": "3.7.0"
  }
 },
 "nbformat": 4,
 "nbformat_minor": 2
}
